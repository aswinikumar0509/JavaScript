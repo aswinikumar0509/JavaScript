{
 "cells": [
  {
   "cell_type": "code",
   "execution_count": null,
   "metadata": {},
   "outputs": [],
   "source": [
    "def function(pattern,s):\n",
    "    "
   ]
  },
  {
   "cell_type": "code",
   "execution_count": 3,
   "metadata": {},
   "outputs": [
    {
     "name": "stdout",
     "output_type": "stream",
     "text": [
      "[0, 1, 1, 0]\n"
     ]
    }
   ],
   "source": [
    "s = \"dog cat cat dog\"\n",
    "s = s.split()\n",
    "map1 = []\n",
    "for i in s:\n",
    "    map1.append(s.index(i))\n",
    "print(map1)"
   ]
  },
  {
   "cell_type": "code",
   "execution_count": 5,
   "metadata": {},
   "outputs": [
    {
     "name": "stdout",
     "output_type": "stream",
     "text": [
      "[0, 1, 0, 3, 4, 0, 6]\n"
     ]
    }
   ],
   "source": [
    "pattern = \"anagram\"\n",
    "map2 = []\n",
    "for i in pattern:\n",
    "    map2.append(pattern.index(i))\n",
    "print(map2)"
   ]
  },
  {
   "cell_type": "code",
   "execution_count": 15,
   "metadata": {},
   "outputs": [],
   "source": [
    "def twosum(num,target):\n",
    "    n = len(num)\n",
    "    i=0\n",
    "    for j in range(1,n):\n",
    "        if(num[i]+num[j]==target):\n",
    "            return i,j\n",
    "        i+=1\n",
    "        \n",
    "num = [3,2,3]\n",
    "target = 6\n",
    "twosum(num,target)\n",
    "        "
   ]
  },
  {
   "cell_type": "code",
   "execution_count": null,
   "metadata": {},
   "outputs": [],
   "source": []
  }
 ],
 "metadata": {
  "kernelspec": {
   "display_name": "Python 3",
   "language": "python",
   "name": "python3"
  },
  "language_info": {
   "codemirror_mode": {
    "name": "ipython",
    "version": 3
   },
   "file_extension": ".py",
   "mimetype": "text/x-python",
   "name": "python",
   "nbconvert_exporter": "python",
   "pygments_lexer": "ipython3",
   "version": "3.10.8"
  }
 },
 "nbformat": 4,
 "nbformat_minor": 2
}
